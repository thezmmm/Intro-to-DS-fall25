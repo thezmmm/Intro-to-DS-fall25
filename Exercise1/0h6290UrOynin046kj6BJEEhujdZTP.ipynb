{
 "cells": [
  {
   "cell_type": "markdown",
   "metadata": {},
   "source": [
    "# Introduction to Data Science 2025\n",
    "\n",
    "# Week 1"
   ]
  },
  {
   "cell_type": "markdown",
   "metadata": {},
   "source": [
    "## Exercise 1 | Matrix warm-up\n",
    "<span style=\"background-color: #ccfff2\"> *Note: You can find tutorials for NumPy and Pandas under 'Useful tutorials' in the course material.*</span>"
   ]
  },
  {
   "cell_type": "markdown",
   "metadata": {},
   "source": [
    "One of the most useful properties of any scientific programming language (Python with NumPy, R, Julia, etc) is that they allow us to work with matrices efficiently. Let's learn more about these features!\n",
    "\n",
    "### 1.1 Basics\n",
    "\n",
    "1. Let's start by creating two arrays <span style=\"background-color: #ccfff2\"> A</span> and <span style=\"background-color: #ccfff2\"> B</span> which each have the integers <span style=\"background-color: #ccfff2\"> 0, 1, 2, ..., 1e7-1</span>. Use the normal arrays or lists of the programming language you are using, e.g. *list* or *[ ]* or *numpy.array()* in Python."
   ]
  },
  {
   "cell_type": "code",
   "metadata": {
    "ExecuteTime": {
     "end_time": "2025-09-04T11:55:20.740493Z",
     "start_time": "2025-09-04T11:55:20.627960Z"
    }
   },
   "source": [
    "import numpy as np\n",
    "\n",
    "A = np.arange(10000000-1)\n",
    "B = np.arange(10000000-1)"
   ],
   "outputs": [],
   "execution_count": 24
  },
  {
   "cell_type": "markdown",
   "metadata": {},
   "source": [
    "2. Create a function that uses a <span style=\"background-color: #ccfff2\"> for loop</span> or equivalent to return a new array <span style=\"background-color: #ccfff2\"> C</span>, which contains the <span style=\"background-color: #ccfff2\"> element-wise sum of *A* and *B*</span>, e.g. C should contain the integers <span style=\"background-color: #ccfff2\"> 0, 2, 4, etc</span>."
   ]
  },
  {
   "cell_type": "code",
   "metadata": {
    "ExecuteTime": {
     "end_time": "2025-09-04T11:52:31.987425Z",
     "start_time": "2025-09-04T11:52:31.980550Z"
    }
   },
   "source": [
    "\n",
    "def add_with_for(A,B):\n",
    "    C = []\n",
    "    # add your code here\n",
    "    maxlen = max(len(A),len(B))\n",
    "    for i in range(maxlen):\n",
    "        valA = 0\n",
    "        valB = 0\n",
    "        if(i < len(A)):\n",
    "            valA = A[i]\n",
    "        if(i < len(B)):\n",
    "            valB = B[i]\n",
    "        val = valA + valB\n",
    "        C.append(val)\n",
    "    return C"
   ],
   "outputs": [],
   "execution_count": 21
  },
  {
   "cell_type": "markdown",
   "metadata": {},
   "source": [
    "3. Next, let's create another function that uses NumPy (or equivalent) to do the same. To try it out, allocate two arrays (e.g. using <span style=\"background-color: #ccfff2\"> np.array</span> in NumPy) and add the arrays together using your function. Don't use loops, instead, find out how to add the two arrays directly. What do you notice in comparison to the previous function?"
   ]
  },
  {
   "cell_type": "code",
   "metadata": {
    "ExecuteTime": {
     "end_time": "2025-09-04T11:57:41.304831Z",
     "start_time": "2025-09-04T11:57:41.122561Z"
    }
   },
   "source": [
    "# Use this cell for your code\n",
    "A = np.arange(10000000-1)\n",
    "B = np.arange(10000000-1)\n",
    "# C = add_with_for(A,B)     4s116ms\n",
    "C = A+B                    # 182ms so fast\n"
   ],
   "outputs": [],
   "execution_count": 28
  },
  {
   "cell_type": "markdown",
   "metadata": {},
   "source": [
    "### 1.2 Array manipulation"
   ]
  },
  {
   "cell_type": "markdown",
   "metadata": {},
   "source": [
    "<span style=\"background-color: #ccfff2\"> *Note: for the following exercises, only use NumPy or equivalent functions. Don't use any loops.* </span>\n",
    "1. Create the following array:\n",
    "\n",
    "*[hint: <span style=\"background-color: #ccfff2\"> np.reshape</span>]*"
   ]
  },
  {
   "cell_type": "code",
   "execution_count": 25,
   "metadata": {},
   "outputs": [],
   "source": [
    "# array([[ 0,  1,  2,  3,  4,  5,  6,  7,  8,  9],\n",
    "#        [10, 11, 12, 13, 14, 15, 16, 17, 18, 19],\n",
    "#        [20, 21, 22, 23, 24, 25, 26, 27, 28, 29],\n",
    "#        [30, 31, 32, 33, 34, 35, 36, 37, 38, 39],\n",
    "#        [40, 41, 42, 43, 44, 45, 46, 47, 48, 49],\n",
    "#        [50, 51, 52, 53, 54, 55, 56, 57, 58, 59],\n",
    "#        [60, 61, 62, 63, 64, 65, 66, 67, 68, 69],\n",
    "#        [70, 71, 72, 73, 74, 75, 76, 77, 78, 79],\n",
    "#        [80, 81, 82, 83, 84, 85, 86, 87, 88, 89],\n",
    "#        [90, 91, 92, 93, 94, 95, 96, 97, 98, 99]])"
   ]
  },
  {
   "cell_type": "code",
   "metadata": {
    "ExecuteTime": {
     "end_time": "2025-09-04T12:00:10.070338Z",
     "start_time": "2025-09-04T12:00:10.064874Z"
    }
   },
   "source": [
    "# Use this cell for your code\n",
    "array = np.arange(100)\n",
    "newArray = array.reshape((10,10))\n",
    "print(newArray)"
   ],
   "outputs": [
    {
     "name": "stdout",
     "output_type": "stream",
     "text": [
      "[[ 0  1  2  3  4  5  6  7  8  9]\n",
      " [10 11 12 13 14 15 16 17 18 19]\n",
      " [20 21 22 23 24 25 26 27 28 29]\n",
      " [30 31 32 33 34 35 36 37 38 39]\n",
      " [40 41 42 43 44 45 46 47 48 49]\n",
      " [50 51 52 53 54 55 56 57 58 59]\n",
      " [60 61 62 63 64 65 66 67 68 69]\n",
      " [70 71 72 73 74 75 76 77 78 79]\n",
      " [80 81 82 83 84 85 86 87 88 89]\n",
      " [90 91 92 93 94 95 96 97 98 99]]\n"
     ]
    }
   ],
   "execution_count": 33
  },
  {
   "cell_type": "markdown",
   "metadata": {},
   "source": [
    "2. Create the following array:"
   ]
  },
  {
   "cell_type": "code",
   "execution_count": 27,
   "metadata": {},
   "outputs": [],
   "source": [
    "# array([[0., 1., 0., 1., 0., 1., 0., 1., 0., 1.],\n",
    "#        [0., 1., 0., 1., 0., 1., 0., 1., 0., 1.],\n",
    "#        [0., 1., 0., 1., 0., 1., 0., 1., 0., 1.],\n",
    "#        [0., 1., 0., 1., 0., 1., 0., 1., 0., 1.],\n",
    "#        [0., 1., 0., 1., 0., 1., 0., 1., 0., 1.],\n",
    "#        [0., 1., 0., 1., 0., 1., 0., 1., 0., 1.],\n",
    "#        [0., 1., 0., 1., 0., 1., 0., 1., 0., 1.],\n",
    "#        [0., 1., 0., 1., 0., 1., 0., 1., 0., 1.],\n",
    "#        [0., 1., 0., 1., 0., 1., 0., 1., 0., 1.],\n",
    "#        [0., 1., 0., 1., 0., 1., 0., 1., 0., 1.]])"
   ]
  },
  {
   "cell_type": "code",
   "metadata": {
    "ExecuteTime": {
     "end_time": "2025-09-04T12:01:41.940883Z",
     "start_time": "2025-09-04T12:01:41.935896Z"
    }
   },
   "source": [
    "# Use this cell for your code\n",
    "array = np.arange(100)\n",
    "newArray = array.reshape((10,10))\n",
    "newArray = newArray%2\n",
    "print(newArray)"
   ],
   "outputs": [
    {
     "name": "stdout",
     "output_type": "stream",
     "text": [
      "[[0 1 0 1 0 1 0 1 0 1]\n",
      " [0 1 0 1 0 1 0 1 0 1]\n",
      " [0 1 0 1 0 1 0 1 0 1]\n",
      " [0 1 0 1 0 1 0 1 0 1]\n",
      " [0 1 0 1 0 1 0 1 0 1]\n",
      " [0 1 0 1 0 1 0 1 0 1]\n",
      " [0 1 0 1 0 1 0 1 0 1]\n",
      " [0 1 0 1 0 1 0 1 0 1]\n",
      " [0 1 0 1 0 1 0 1 0 1]\n",
      " [0 1 0 1 0 1 0 1 0 1]]\n"
     ]
    }
   ],
   "execution_count": 35
  },
  {
   "cell_type": "markdown",
   "metadata": {},
   "source": [
    "3. Create the following array (D):"
   ]
  },
  {
   "cell_type": "code",
   "execution_count": 29,
   "metadata": {},
   "outputs": [],
   "source": [
    "# array([[0., 1., 1., 1., 1., 1., 1., 1., 1., 1.],\n",
    "#        [1., 0., 1., 1., 1., 1., 1., 1., 1., 1.],\n",
    "#        [1., 1., 0., 1., 1., 1., 1., 1., 1., 1.],\n",
    "#        [1., 1., 1., 0., 1., 1., 1., 1., 1., 1.],\n",
    "#        [1., 1., 1., 1., 0., 1., 1., 1., 1., 1.],\n",
    "#        [1., 1., 1., 1., 1., 0., 1., 1., 1., 1.],\n",
    "#        [1., 1., 1., 1., 1., 1., 0., 1., 1., 1.],\n",
    "#        [1., 1., 1., 1., 1., 1., 1., 0., 1., 1.],\n",
    "#        [1., 1., 1., 1., 1., 1., 1., 1., 0., 1.],\n",
    "#        [1., 1., 1., 1., 1., 1., 1., 1., 1., 0.]])"
   ]
  },
  {
   "cell_type": "code",
   "metadata": {
    "ExecuteTime": {
     "end_time": "2025-09-04T12:05:29.705858Z",
     "start_time": "2025-09-04T12:05:29.699275Z"
    }
   },
   "source": [
    "# Use this cell for your code\n",
    "D = np.ones((10,10))\n",
    "np.fill_diagonal(D,0)\n",
    "print(D)"
   ],
   "outputs": [
    {
     "name": "stdout",
     "output_type": "stream",
     "text": [
      "[[0. 1. 1. 1. 1. 1. 1. 1. 1. 1.]\n",
      " [1. 0. 1. 1. 1. 1. 1. 1. 1. 1.]\n",
      " [1. 1. 0. 1. 1. 1. 1. 1. 1. 1.]\n",
      " [1. 1. 1. 0. 1. 1. 1. 1. 1. 1.]\n",
      " [1. 1. 1. 1. 0. 1. 1. 1. 1. 1.]\n",
      " [1. 1. 1. 1. 1. 0. 1. 1. 1. 1.]\n",
      " [1. 1. 1. 1. 1. 1. 0. 1. 1. 1.]\n",
      " [1. 1. 1. 1. 1. 1. 1. 0. 1. 1.]\n",
      " [1. 1. 1. 1. 1. 1. 1. 1. 0. 1.]\n",
      " [1. 1. 1. 1. 1. 1. 1. 1. 1. 0.]]\n"
     ]
    }
   ],
   "execution_count": 42
  },
  {
   "cell_type": "markdown",
   "metadata": {},
   "source": [
    "4. Create the following array (E):"
   ]
  },
  {
   "cell_type": "code",
   "execution_count": 31,
   "metadata": {},
   "outputs": [],
   "source": [
    "# array([[1., 1., 1., 1., 1., 1., 1., 1., 1., 0.],\n",
    "#        [1., 1., 1., 1., 1., 1., 1., 1., 0., 1.],\n",
    "#        [1., 1., 1., 1., 1., 1., 1., 0., 1., 1.],\n",
    "#        [1., 1., 1., 1., 1., 1., 0., 1., 1., 1.],\n",
    "#        [1., 1., 1., 1., 1., 0., 1., 1., 1., 1.],\n",
    "#        [1., 1., 1., 1., 0., 1., 1., 1., 1., 1.],\n",
    "#        [1., 1., 1., 0., 1., 1., 1., 1., 1., 1.],\n",
    "#        [1., 1., 0., 1., 1., 1., 1., 1., 1., 1.],\n",
    "#        [1., 0., 1., 1., 1., 1., 1., 1., 1., 1.],\n",
    "#        [0., 1., 1., 1., 1., 1., 1., 1., 1., 1.]])"
   ]
  },
  {
   "cell_type": "code",
   "metadata": {
    "ExecuteTime": {
     "end_time": "2025-09-04T12:11:45.781996Z",
     "start_time": "2025-09-04T12:11:45.764485Z"
    }
   },
   "source": [
    "# Use this cell for your code\n",
    "E = np.ones((10,10))\n",
    "x = np.arange(10)\n",
    "y = np.arange(9,-1,-1)\n",
    "E[x,y] = 0\n",
    "print(E)"
   ],
   "outputs": [
    {
     "name": "stdout",
     "output_type": "stream",
     "text": [
      "[[1. 1. 1. 1. 1. 1. 1. 1. 1. 0.]\n",
      " [1. 1. 1. 1. 1. 1. 1. 1. 0. 1.]\n",
      " [1. 1. 1. 1. 1. 1. 1. 0. 1. 1.]\n",
      " [1. 1. 1. 1. 1. 1. 0. 1. 1. 1.]\n",
      " [1. 1. 1. 1. 1. 0. 1. 1. 1. 1.]\n",
      " [1. 1. 1. 1. 0. 1. 1. 1. 1. 1.]\n",
      " [1. 1. 1. 0. 1. 1. 1. 1. 1. 1.]\n",
      " [1. 1. 0. 1. 1. 1. 1. 1. 1. 1.]\n",
      " [1. 0. 1. 1. 1. 1. 1. 1. 1. 1.]\n",
      " [0. 1. 1. 1. 1. 1. 1. 1. 1. 1.]]\n"
     ]
    }
   ],
   "execution_count": 47
  },
  {
   "cell_type": "markdown",
   "metadata": {},
   "source": [
    "5. Call the last two matrices <span style=\"background-color: #ccfff2\">D</span> and <span style=\"background-color: #ccfff2\">E</span>, respectively. Show that the determinant of their product (matrix multiplication) is the same as the product of their determinants. That is calculate both <span style=\"background-color: #ccfff2\">det(DE)</span> and <span style=\"background-color: #ccfff2\">det(D) * det(E)</span>, and show that they are the same. Is it a coincidence? (I think not) The product of the determinants (or the determinant of the product) should be -81."
   ]
  },
  {
   "cell_type": "code",
   "metadata": {
    "ExecuteTime": {
     "end_time": "2025-09-04T12:18:57.890699Z",
     "start_time": "2025-09-04T12:18:57.882141Z"
    }
   },
   "source": [
    "# Use this cell for your code\n",
    "det_D = np.linalg.det(D)\n",
    "det_E = np.linalg.det(E)\n",
    "det_DE = np.linalg.det(D@E)\n",
    "det_D_E = det_D*det_E\n",
    "print(det_DE)\n",
    "print(det_D_E)"
   ],
   "outputs": [
    {
     "name": "stdout",
     "output_type": "stream",
     "text": [
      "-81.0000000000001\n",
      "-81.0\n"
     ]
    }
   ],
   "execution_count": 50
  },
  {
   "cell_type": "markdown",
   "metadata": {},
   "source": "-- *Use this markdown cell for your written answer* --"
  },
  {
   "cell_type": "markdown",
   "metadata": {},
   "source": [
    "### 1.3 Slicing\n",
    "\n",
    "Array slicing is a powerful way to extract data from an array. Let's practice array slicing with the following exercises!\n",
    "\n",
    "1. Load the [California housing dataset](https://scikit-learn.org/stable/modules/generated/sklearn.datasets.fetch_california_housing.html). The data should be a matrix of shape <span style=\"background-color: #ccfff2\">(20640, 8)</span>, that is 20640 rows and 8 columns. Use the <span style=\"background-color: #ccfff2\">.shape</span> attribute of NumPy arrays to verify this. Here's a [description of the fields](https://scikit-learn.org/stable/datasets/real_world.html#california-housing-dataset)."
   ]
  },
  {
   "cell_type": "code",
   "metadata": {
    "ExecuteTime": {
     "end_time": "2025-09-05T10:42:21.443897Z",
     "start_time": "2025-09-05T10:42:21.428127Z"
    }
   },
   "source": [
    "import sklearn\n",
    "\n",
    "# Use this cell for your code\n",
    "\n",
    "california_housing_data = sklearn.datasets.fetch_california_housing().data\n",
    "print(california_housing_data.shape)\n",
    "print(california_housing_data[0])"
   ],
   "outputs": [
    {
     "name": "stdout",
     "output_type": "stream",
     "text": [
      "(20640, 8)\n",
      "[   8.3252       41.            6.98412698    1.02380952  322.\n",
      "    2.55555556   37.88       -122.23      ]\n"
     ]
    }
   ],
   "execution_count": 20
  },
  {
   "cell_type": "markdown",
   "metadata": {},
   "source": [
    "2. Select rows where the average number of bedrooms <span style=\"background-color: #ccfff2\">(AveBedrms)</span> is higher than 2. The first few row indices should be <span style=\"background-color: #ccfff2\">710,  1023,  1024, ...</span> (zero-indexed). Count these houses - how many rows are selected? *[hint: <span style=\"background-color: #ccfff2\">np.where</span>]*"
   ]
  },
  {
   "cell_type": "code",
   "metadata": {
    "ExecuteTime": {
     "end_time": "2025-09-05T10:47:42.219690Z",
     "start_time": "2025-09-05T10:47:42.214803Z"
    }
   },
   "source": [
    "# Use this cell for your code\n",
    "import numpy as np\n",
    "ave_bedrms = california_housing_data[:, 3]\n",
    "indices = np.where(ave_bedrms > 2)[0]\n",
    "\n",
    "print(indices[:5])\n",
    "print(\"the number of rows\", len(indices))"
   ],
   "outputs": [
    {
     "name": "stdout",
     "output_type": "stream",
     "text": [
      "[ 710 1023 1024 1030 1102]\n",
      "the number of rows 235\n"
     ]
    }
   ],
   "execution_count": 27
  },
  {
   "cell_type": "markdown",
   "metadata": {},
   "source": [
    "3. Select the rows where the median house age (i.e. median in each block group) <span style=\"background-color: #ccfff2\">(HouseAge)</span> is between 1 and 3 years (inclusive). There should be **124** of these."
   ]
  },
  {
   "cell_type": "code",
   "metadata": {
    "ExecuteTime": {
     "end_time": "2025-09-05T10:50:02.370311Z",
     "start_time": "2025-09-05T10:50:02.361980Z"
    }
   },
   "source": [
    "# Use this cell for your code\n",
    "house_age = california_housing_data[:,1]\n",
    "indices = np.where((house_age >= 1) & (house_age <= 3))[0]\n",
    "\n",
    "print(\"the number of rows\", len(indices))"
   ],
   "outputs": [
    {
     "name": "stdout",
     "output_type": "stream",
     "text": [
      "the number of rows 124\n"
     ]
    }
   ],
   "execution_count": 30
  },
  {
   "cell_type": "markdown",
   "metadata": {},
   "source": [
    "4. Find the mean of the block group population <span style=\"background-color: #ccfff2\">(Population)</span> for homes whose median value is more than 25000 USD (the target variable). It should be around **1425.68**."
   ]
  },
  {
   "cell_type": "code",
   "metadata": {
    "ExecuteTime": {
     "end_time": "2025-09-05T10:54:27.455860Z",
     "start_time": "2025-09-05T10:54:27.443842Z"
    }
   },
   "source": [
    "# Use this cell for your code\n",
    "california_housing = sklearn.datasets.fetch_california_housing()\n",
    "\n",
    "population = california_housing.data[:, 4]\n",
    "median_value = california_housing.target\n",
    "\n",
    "indices = np.where(median_value > 0.25)[0]\n",
    "\n",
    "mean_population = population[indices].mean()\n",
    "\n",
    "print(\"the mean of population:\", mean_population)"
   ],
   "outputs": [
    {
     "name": "stdout",
     "output_type": "stream",
     "text": [
      "the mean of population: 1425.6833737275813\n"
     ]
    }
   ],
   "execution_count": 38
  },
  {
   "cell_type": "markdown",
   "metadata": {},
   "source": [
    "## Exercise 2 | Working with text data\n",
    "\n",
    "Next, let's look into some text data. We will be looking into Amazon reviews, and the necessary steps to transform a raw dataset into a format more suitable for prediction tasks.\n",
    "\n",
    "1. Download the automotive 5-core dataset from [here](https://jmcauley.ucsd.edu/data/amazon_v2/categoryFilesSmall/Automotive_5.json.gz). Next, you can extract the data in <span style=\"background-color: #ccfff2\">JSON</span> format. You can also download one of the bigger ones, if you are feeling ambitious. Open the JSON file. Access the <span style=\"background-color: #ccfff2\">reviewText</span> field, which contains the unstructured review text written by the user.\n",
    "\n",
    "For instance, the first review reads as follows: \n",
    "\n",
    "*'After I wrote the below review, the manufacturer contacted me and explained how to use this.  Instead of the (current) picture on Amazon where the phone is placed vertically, you actually use the stand with the phone placed horizontally. [...]'*"
   ]
  },
  {
   "cell_type": "code",
   "metadata": {
    "ExecuteTime": {
     "end_time": "2025-09-05T10:30:42.535795Z",
     "start_time": "2025-09-05T10:30:35.793277Z"
    }
   },
   "source": [
    "import json\n",
    "\n",
    "data = []\n",
    "with open('Automotive_5.json', 'r', encoding='utf-8') as f:\n",
    "    for line in f:\n",
    "        line = line.strip()\n",
    "        line = json.loads(line)\n",
    "        reviewText = line.get(\"reviewText\")\n",
    "        if reviewText is not None:\n",
    "            data.append(reviewText)\n",
    "print(data[0])"
   ],
   "outputs": [
    {
     "name": "stdout",
     "output_type": "stream",
     "text": [
      "After I wrote the below review, the manufacturer contacted me and explained how to use this.  Instead of the (current) picture on Amazon where the phone is placed vertically, you actually use the stand with the phone placed horizontally.  Then the charge / sync cable goes through the hole and you can charge from the side.  When used in landscape position this stand does make more sense so I'm upgrading this review from 2 stars to 4 stars (which I rarely do, but in this case user error) with a star off for lack of documentation.  Manufacturer has said he will include directions and I would also encourage him to update the photos on Amazon with more examples of how this can be used.  The wood quality is indeed good and it's a sturdy little stand.  I'm trying to think of when I'd actually use this stand... perhaps for Facetime chats.  I also think it would be useful for someone in an open office environment if they want to keep their phone on their desk and see alerts / notifications easily.  Hope this updated review helps.\n",
      "\n",
      "ORIGINAL REVIEW:\n",
      "I am throwing this stand in the garbage.  While it's crafted of a nice wood, it is not functional as near as I can tell.  It does not come with instructions and as you can see from the product description, even that is confusing since the English is poorly translated Chinese.  The iPhone sits on the stand just fine, but when it's on the stand, there is no way the plug on the bottom  will plug in -- the stand blocks it.  If you turn the iPhone over, the plug is on the top, which just looks strange.  And I'm not at all sure what the hole in the back of the stand is supposed to do.  Also included are four plastic feet, again no instructions, so I affixed them to the bottom of the stand and it began to wobble.\n",
      "\n",
      "Perhaps someone else will figure out how to work this thing and post a review, but as far as I'm concerned, the out of the box experience was terrible.\n",
      "\n",
      "Sorry, I cannot recommend.\n",
      "\n",
      "Sample provided in exchange for an honest review.\n"
     ]
    }
   ],
   "execution_count": 14
  },
  {
   "cell_type": "markdown",
   "metadata": {},
   "source": [
    "2. Next, let's follow some steps to normalize the text data.\n",
    "\n",
    "When dealing with natural language, it is important to notice that while, for example, the words \"Copper\" and \"copper\" are represented by two different strings, they have the same meaning. When applying statistical methods on this data, it is useful to ensure that words with the same meaning are represented by the same string.\n",
    "\n",
    "* <span style=\"background-color: #ccfff2\">Downcasing</span>: Let's first downcase the contents of the <span style=\"background-color: #ccfff2\">reviewText</span> field.\n",
    "\n",
    "Now the first review should be:\n",
    "\n",
    "*'after i wrote the below review, the manufacturer contacted me and explained how to use this.  instead of the (current) picture on amazon where the phone is placed vertically, you actually use the stand with the phone placed horizontally.'*"
   ]
  },
  {
   "cell_type": "code",
   "metadata": {
    "ExecuteTime": {
     "end_time": "2025-09-05T10:30:49.535124Z",
     "start_time": "2025-09-05T10:30:49.016878Z"
    }
   },
   "source": [
    "# Use this cell for your code\n",
    "data = [s.lower() for s in data]\n",
    "print(data[0])"
   ],
   "outputs": [
    {
     "name": "stdout",
     "output_type": "stream",
     "text": [
      "after i wrote the below review, the manufacturer contacted me and explained how to use this.  instead of the (current) picture on amazon where the phone is placed vertically, you actually use the stand with the phone placed horizontally.  then the charge / sync cable goes through the hole and you can charge from the side.  when used in landscape position this stand does make more sense so i'm upgrading this review from 2 stars to 4 stars (which i rarely do, but in this case user error) with a star off for lack of documentation.  manufacturer has said he will include directions and i would also encourage him to update the photos on amazon with more examples of how this can be used.  the wood quality is indeed good and it's a sturdy little stand.  i'm trying to think of when i'd actually use this stand... perhaps for facetime chats.  i also think it would be useful for someone in an open office environment if they want to keep their phone on their desk and see alerts / notifications easily.  hope this updated review helps.\n",
      "\n",
      "original review:\n",
      "i am throwing this stand in the garbage.  while it's crafted of a nice wood, it is not functional as near as i can tell.  it does not come with instructions and as you can see from the product description, even that is confusing since the english is poorly translated chinese.  the iphone sits on the stand just fine, but when it's on the stand, there is no way the plug on the bottom  will plug in -- the stand blocks it.  if you turn the iphone over, the plug is on the top, which just looks strange.  and i'm not at all sure what the hole in the back of the stand is supposed to do.  also included are four plastic feet, again no instructions, so i affixed them to the bottom of the stand and it began to wobble.\n",
      "\n",
      "perhaps someone else will figure out how to work this thing and post a review, but as far as i'm concerned, the out of the box experience was terrible.\n",
      "\n",
      "sorry, i cannot recommend.\n",
      "\n",
      "sample provided in exchange for an honest review.\n"
     ]
    }
   ],
   "execution_count": 15
  },
  {
   "cell_type": "markdown",
   "metadata": {},
   "source": [
    "3. Let's continue with punctuation and stop word removal. Stop words are words like \"and\", \"the\", etc. They are usually very common words that have little to do with the actual content matter. There's plenty openly available lists of stop words for almost any (natural) language.\n",
    "\n",
    "* <span style=\"background-color: #ccfff2\">Punctuation and stop-word removal</span>: Let's now remove all punctuation, as well as the stop words. You can find a stop word list for English, e.g. [here](https://gist.github.com/xldrkp/4a3b1a33f10d37bedbe0068f2b4482e8#file-stopwords-en-txt).*(use the link to download a txt of english stopwords)* Save the stopwords in the file as \"stopwords-en.txt\".\n",
    "\n",
    "First review at this point reads as: \n",
    "\n",
    "*'wrote review manufacturer contacted explained current picture amazon phone vertically stand phone horizontally'*"
   ]
  },
  {
   "cell_type": "code",
   "metadata": {
    "ExecuteTime": {
     "end_time": "2025-09-05T10:34:34.088079Z",
     "start_time": "2025-09-05T10:30:53.130903Z"
    }
   },
   "source": [
    "import string\n",
    "\n",
    "\n",
    "# Use this cell for your code\n",
    "def remove_stopwords(text_array):\n",
    "    with open(\"stopwords-en.txt\", 'r', encoding='utf-8') as f:\n",
    "        stopwords = f.read().split()\n",
    "    processed_text = []\n",
    "    punctuation_remover = str.maketrans(\"\", \"\", string.punctuation)\n",
    "    for text in text_array:\n",
    "        words = text.translate(punctuation_remover).split()\n",
    "        filtered_words = [w for w in words if w not in stopwords]\n",
    "        processed_text.append(\" \".join(filtered_words))\n",
    "    return processed_text\n",
    "data = remove_stopwords(data)\n",
    "print(data[0])"
   ],
   "outputs": [
    {
     "name": "stdout",
     "output_type": "stream",
     "text": [
      "wrote review manufacturer contacted explained current picture amazon phone vertically stand phone horizontally charge sync cable hole charge landscape position stand sense upgrading review 2 stars 4 stars rarely case user error star lack documentation manufacturer include directions encourage update photos amazon examples wood quality good sturdy stand stand facetime chats open office environment phone desk alerts notifications easily hope updated review helps original review throwing stand garbage crafted nice wood functional instructions product description confusing english translated chinese iphone sits stand fine stand plug plug stand blocks turn iphone plug strange hole stand supposed included plastic feet instructions affixed stand began wobble figure work post review concerned box experience terrible recommend sample exchange honest review\n"
     ]
    }
   ],
   "execution_count": 16
  },
  {
   "cell_type": "markdown",
   "metadata": {},
   "source": [
    "4. Let's continue with stemming. For example, while the words \"swims\" and \"swim\" are different strings, they both refer to swimming. [Stemming](https://en.wikipedia.org/wiki/Stemming) refers to the process of mapping words from their inflected form to their base form, for instance: swims -> swim.\n",
    "\n",
    "* <span style=\"background-color: #ccfff2\">Stemming</span>: Apply a stemmer on the paragraphs, so that inflected forms are mapped to the base form. For example, for Python the popular natural language toolkit [nltk](http://www.nltk.org/howto/stem.html) has an easy to use stemmer. In case you are using R, you can try the [Snowball stemmer](https://www.rdocumentation.org/packages/corpus/versions/0.10.2/topics/stem_snowball). You can find out how to install nltk from [here](https://www.nltk.org/install.html). It will take a while to run! So, grab a coffee and wait :D\n",
    "\n",
    "Finally, after stemming: \n",
    "\n",
    "*'wrote review manufactur contact explain current pictur amazon phone vertic stand phone horizont'*"
   ]
  },
  {
   "cell_type": "code",
   "metadata": {
    "ExecuteTime": {
     "end_time": "2025-09-05T10:39:38.320374Z",
     "start_time": "2025-09-05T10:34:42.803966Z"
    }
   },
   "source": [
    "# Use this cell for your code\n",
    "import nltk\n",
    "from nltk.stem import PorterStemmer\n",
    "\n",
    "def stemming(text_array):\n",
    "    stemmer = PorterStemmer()\n",
    "    processed_text = []\n",
    "    punctuation_remover = str.maketrans(\"\", \"\", string.punctuation)\n",
    "    for text in text_array:\n",
    "        words = text.translate(punctuation_remover).split()\n",
    "        filtered_words = [stemmer.stem(w) for w in words]\n",
    "        processed_text.append(\" \".join(filtered_words))\n",
    "    return processed_text\n",
    "data = stemming(data)\n",
    "print(data[0])"
   ],
   "outputs": [
    {
     "name": "stdout",
     "output_type": "stream",
     "text": [
      "wrote review manufactur contact explain current pictur amazon phone vertic stand phone horizont charg sync cabl hole charg landscap posit stand sens upgrad review 2 star 4 star rare case user error star lack document manufactur includ direct encourag updat photo amazon exampl wood qualiti good sturdi stand stand facetim chat open offic environ phone desk alert notif easili hope updat review help origin review throw stand garbag craft nice wood function instruct product descript confus english translat chines iphon sit stand fine stand plug plug stand block turn iphon plug strang hole stand suppos includ plastic feet instruct affix stand began wobbl figur work post review concern box experi terribl recommend sampl exchang honest review\n"
     ]
    }
   ],
   "execution_count": 17
  },
  {
   "cell_type": "markdown",
   "metadata": {},
   "source": [
    "5. Finally, filter the data by selecting reviews where the field <span style=\"background-color: #ccfff2\">overall</span> is 4 or 5, and store the review texts in a file named <span style=\"background-color: #ccfff2\">pos.txt</span>. Similarly, select reviews with rating 1 or 2 and store them in a file named <span style=\"background-color: #ccfff2\">neg.txt</span>. Ignore the reviews with overall rating 3. Each line in the two files should contain exactly one preprocessed review text without the rating."
   ]
  },
  {
   "cell_type": "code",
   "metadata": {
    "ExecuteTime": {
     "end_time": "2025-09-05T10:39:55.341072Z",
     "start_time": "2025-09-05T10:39:47.034469Z"
    }
   },
   "source": [
    "# Use this cell for your code\n",
    "overall = []\n",
    "with open('Automotive_5.json', 'r', encoding='utf-8') as f:\n",
    "    for line in f:\n",
    "        line = line.strip()\n",
    "        line = json.loads(line)\n",
    "        reviewText = line.get(\"reviewText\")\n",
    "        if reviewText is not None:\n",
    "            overall.append(line.get(\"overall\"))\n",
    "\n",
    "pos_reviews = []\n",
    "neg_reviews = []\n",
    "\n",
    "for rating,review in zip(overall,data):\n",
    "    if rating in [4,5]:\n",
    "        pos_reviews.append(review)\n",
    "    if rating in [1,2]:\n",
    "        neg_reviews.append(review)\n",
    "\n",
    "with open(\"pos.txt\",\"w\",encoding='utf-8') as f:\n",
    "    for review in pos_reviews:\n",
    "        f.write(review.strip()+\"\\n\")\n",
    "\n",
    "with open(\"neg.txt\",\"w\",encoding='utf-8') as f:\n",
    "    for review in neg_reviews:\n",
    "        f.write(review.strip()+\"\\n\")\n",
    "\n"
   ],
   "outputs": [],
   "execution_count": 18
  },
  {
   "cell_type": "markdown",
   "metadata": {},
   "source": [
    "## Exercise 3 | SQL basics\n",
    "\n",
    "Next, let's take a refresher on the basics of SQL. In this exercise, you will be working on the simplified Northwind 2000 SQLite database. You can download the database from Kaggle [here](https://courses.mooc.fi/api/v0/files/course/f92ffc32-2dd4-421d-87f3-c48800422cc5/files/VEKX2bxGCDGyojG902gmYZTXCnrAQw.zip).\n",
    "\n",
    "To test your SQL queries and complete the exercise, you can download and install SQLite if you don't yet have it installed.\n",
    "\n",
    "Please write SQL queries for the tasks on the simplified Northwind 2000 SQLite database.\n",
    "\n",
    "1. List the first name, last name, and hire date of all employees hired after January 1st, 1994.\n",
    "\n",
    "2. Count how many orders each customer has placed.\n",
    "\n",
    "3. Find the names of all customers who have ordered the product \"Chai\".\n",
    "\n",
    "4. Find all orders that have been placed but not yet shipped.\n",
    "\n",
    "5. Find the customer who has placed the most orders."
   ]
  },
  {
   "cell_type": "markdown",
   "metadata": {},
   "source": "**Remember to submit your solutions. You can return this Jupyter notebook (.ipynb) or .py, .R, etc depending on your programming preferences. Remember to also submit your SQL queries. No need to submit the text files for the programming exercises.**"
  },
  {
   "metadata": {
    "ExecuteTime": {
     "end_time": "2025-09-05T15:56:24.003255Z",
     "start_time": "2025-09-05T15:56:23.997737Z"
    }
   },
   "cell_type": "code",
   "source": [
    "# 1\n",
    "\n",
    "import sqlite3\n",
    "\n",
    "conn = sqlite3.connect(\"northwind2000-simplified.sqlite\")\n",
    "\n",
    "cursor = conn.cursor()\n",
    "\n",
    "cursor.execute(\"SELECT FirstName, LastName, HireDate FROM Employees where HireDate > '1994-01-01';\")\n",
    "tables = cursor.fetchall()\n",
    "print(tables)\n",
    "\n",
    "cursor.close()\n",
    "conn.close()"
   ],
   "outputs": [
    {
     "name": "stdout",
     "output_type": "stream",
     "text": [
      "[('Robert', 'King', '1994-01-02'), ('Laura', 'Callahan', '1994-03-05'), ('Anne', 'Dodsworth', '1994-11-15')]\n"
     ]
    }
   ],
   "execution_count": 18
  },
  {
   "metadata": {
    "ExecuteTime": {
     "end_time": "2025-09-05T15:47:08.745830Z",
     "start_time": "2025-09-05T15:47:08.739732Z"
    }
   },
   "cell_type": "code",
   "source": [
    "# 2\n",
    "\n",
    "import sqlite3\n",
    "\n",
    "conn = sqlite3.connect(\"northwind2000-simplified.sqlite\")\n",
    "\n",
    "cursor = conn.cursor()\n",
    "\n",
    "cursor.execute(\"SELECT CustomerID,count(*) FROM orders group by CustomerID;\")\n",
    "tables = cursor.fetchall()\n",
    "print(tables)\n",
    "\n",
    "cursor.close()\n",
    "conn.close()"
   ],
   "outputs": [
    {
     "name": "stdout",
     "output_type": "stream",
     "text": [
      "[('ALFKI', 6), ('ANATR', 4), ('ANTON', 7), ('AROUT', 13), ('BERGS', 18), ('BLAUS', 7), ('BLONP', 11), ('BOLID', 3), ('BONAP', 17), ('BOTTM', 14), ('BSBEV', 10), ('CACTU', 6), ('CENTC', 1), ('CHOPS', 8), ('COMMI', 5), ('CONSH', 3), ('DRACD', 6), ('DUMON', 4), ('EASTC', 8), ('ERNSH', 30), ('FAMIA', 7), ('FOLIG', 5), ('FOLKO', 19), ('FRANK', 15), ('FRANR', 3), ('FRANS', 6), ('FURIB', 8), ('GALED', 5), ('GODOS', 10), ('GOURL', 9), ('GREAL', 11), ('GROSR', 2), ('HANAR', 14), ('HILAA', 18), ('HUNGC', 5), ('HUNGO', 19), ('ISLAT', 10), ('KOENE', 14), ('LACOR', 4), ('LAMAI', 14), ('LAUGB', 3), ('LAZYK', 2), ('LEHMS', 15), ('LETSS', 4), ('LILAS', 14), ('LINOD', 12), ('LONEP', 8), ('MAGAA', 10), ('MAISD', 7), ('MEREP', 13), ('MORGK', 5), ('NORTS', 3), ('OCEAN', 5), ('OLDWO', 10), ('OTTIK', 10), ('PERIC', 6), ('PICCO', 10), ('PRINI', 5), ('QUEDE', 9), ('QUEEN', 13), ('QUICK', 28), ('RANCH', 5), ('RATTC', 18), ('REGGC', 12), ('RICAR', 11), ('RICSU', 10), ('ROMEY', 5), ('SANTG', 6), ('SAVEA', 31), ('SEVES', 9), ('SIMOB', 7), ('SPECD', 4), ('SPLIR', 9), ('SUPRD', 12), ('THEBI', 4), ('THECR', 3), ('TOMSP', 6), ('TORTU', 10), ('TRADH', 6), ('TRAIH', 3), ('VAFFE', 11), ('VICTE', 10), ('VINET', 5), ('WANDK', 10), ('WARTH', 15), ('WELLI', 9), ('WHITC', 14), ('WILMK', 7), ('WOLZA', 7)]\n"
     ]
    }
   ],
   "execution_count": 9
  },
  {
   "metadata": {
    "ExecuteTime": {
     "end_time": "2025-09-05T15:56:52.278805Z",
     "start_time": "2025-09-05T15:56:52.271935Z"
    }
   },
   "cell_type": "code",
   "source": [
    "# 3\n",
    "\n",
    "import sqlite3\n",
    "\n",
    "conn = sqlite3.connect(\"northwind2000-simplified.sqlite\")\n",
    "\n",
    "cursor = conn.cursor()\n",
    "\n",
    "cursor.execute(\"SELECT ContactName FROM Customers c INNER JOIN Orders o ON o.CustomerID = c.CustomerID WHERE o.OrderID in (SELECT OrderID FROM OrderDetails od INNER JOIN Products p on p.ProductID = od.ProductID WHERE ProductName = 'Chai');\")\n",
    "tables = cursor.fetchall()\n",
    "print(tables)\n",
    "\n",
    "cursor.close()\n",
    "conn.close()"
   ],
   "outputs": [
    {
     "name": "stdout",
     "output_type": "stream",
     "text": [
      "[('Horst Kloss',), ('Paula Wilson',), ('Fran Wilson',), ('Rita Müller',), ('Guillermo Fernández',), ('Yang Wang',), ('Lúcia Carvalho',), ('Annette Roulet',), ('Isabel de Castro',), ('Renate Messner',), ('Pirkko Koskitalo',), ('Miguel Angel Paolino',), ('Jean Fresnière',), ('Janine Labrune',), ('Zbyszek Piestrzeniewicz',), ('Frédérique Citeaux',), ('Patricia McKenna',), ('Christina Berglund',), ('Horst Kloss',), ('Jose Pavarotti',), ('Felipe Izquierdo',), ('Simon Crowther',), ('Felipe Izquierdo',), ('Jose Pavarotti',), ('Carlos Hernández',), ('Hari Kumar',), ('Paula Parente',), ('José Pedro Freyre',), ('Elizabeth Lincoln',), ('Paula Parente',), ('Liu Wong',), ('Matti Karttunen',), ('Howard Snyder',), ('Pirkko Koskitalo',), ('Jose Pavarotti',), ('Pascale Cartrain',), ('Ann Devon',), ('Renate Messner',)]\n"
     ]
    }
   ],
   "execution_count": 19
  },
  {
   "metadata": {
    "ExecuteTime": {
     "end_time": "2025-09-05T16:01:49.323009Z",
     "start_time": "2025-09-05T16:01:49.317836Z"
    }
   },
   "cell_type": "code",
   "source": [
    "# 4\n",
    "\n",
    "import sqlite3\n",
    "\n",
    "conn = sqlite3.connect(\"northwind2000-simplified.sqlite\")\n",
    "\n",
    "cursor = conn.cursor()\n",
    "\n",
    "cursor.execute(\"SELECT * FROM Orders WHERE OrderDate IS NOT NULL and ShippedDate IS NULL\")\n",
    "tables = cursor.fetchall()\n",
    "print(tables)\n",
    "\n",
    "cursor.close()\n",
    "conn.close()"
   ],
   "outputs": [
    {
     "name": "stdout",
     "output_type": "stream",
     "text": [
      "[(11008, 'ERNSH', 7, '1998-04-08 00:00:00.000', '1998-05-06 00:00:00.000', None, 3, 79.46), (11019, 'RANCH', 6, '1998-04-13 00:00:00.000', '1998-05-11 00:00:00.000', None, 3, 3.17), (11039, 'LINOD', 1, '1998-04-21 00:00:00.000', '1998-05-19 00:00:00.000', None, 2, 65), (11040, 'GREAL', 4, '1998-04-22 00:00:00.000', '1998-05-20 00:00:00.000', None, 3, 18.84), (11045, 'BOTTM', 6, '1998-04-23 00:00:00.000', '1998-05-21 00:00:00.000', None, 2, 70.58), (11051, 'LAMAI', 7, '1998-04-27 00:00:00.000', '1998-05-25 00:00:00.000', None, 3, 2.79), (11054, 'CACTU', 8, '1998-04-28 00:00:00.000', '1998-05-26 00:00:00.000', None, 1, 0.33), (11058, 'BLAUS', 9, '1998-04-29 00:00:00.000', '1998-05-27 00:00:00.000', None, 3, 31.14), (11059, 'RICAR', 2, '1998-04-29 00:00:00.000', '1998-06-10 00:00:00.000', None, 2, 85.8), (11061, 'GREAL', 4, '1998-04-30 00:00:00.000', '1998-06-11 00:00:00.000', None, 3, 14.01), (11062, 'REGGC', 4, '1998-04-30 00:00:00.000', '1998-05-28 00:00:00.000', None, 2, 29.93), (11065, 'LILAS', 8, '1998-05-01 00:00:00.000', '1998-05-29 00:00:00.000', None, 1, 12.91), (11068, 'QUEEN', 8, '1998-05-04 00:00:00.000', '1998-06-01 00:00:00.000', None, 2, 81.75), (11070, 'LEHMS', 2, '1998-05-05 00:00:00.000', '1998-06-02 00:00:00.000', None, 1, 136), (11071, 'LILAS', 1, '1998-05-05 00:00:00.000', '1998-06-02 00:00:00.000', None, 1, 0.93), (11072, 'ERNSH', 4, '1998-05-05 00:00:00.000', '1998-06-02 00:00:00.000', None, 2, 258.64), (11073, 'PERIC', 2, '1998-05-05 00:00:00.000', '1998-06-02 00:00:00.000', None, 2, 24.95), (11074, 'SIMOB', 7, '1998-05-06 00:00:00.000', '1998-06-03 00:00:00.000', None, 2, 18.44), (11075, 'RICSU', 8, '1998-05-06 00:00:00.000', '1998-06-03 00:00:00.000', None, 2, 6.19), (11076, 'BONAP', 4, '1998-05-06 00:00:00.000', '1998-06-03 00:00:00.000', None, 2, 38.28), (11077, 'RATTC', 1, '1998-05-06 00:00:00.000', '1998-06-03 00:00:00.000', None, 2, 8.53)]\n"
     ]
    }
   ],
   "execution_count": 20
  },
  {
   "metadata": {
    "ExecuteTime": {
     "end_time": "2025-09-05T16:06:54.064296Z",
     "start_time": "2025-09-05T16:06:54.058161Z"
    }
   },
   "cell_type": "code",
   "source": [
    "# 5\n",
    "\n",
    "import sqlite3\n",
    "\n",
    "conn = sqlite3.connect(\"northwind2000-simplified.sqlite\")\n",
    "\n",
    "cursor = conn.cursor()\n",
    "\n",
    "cursor.execute(\"SELECT Customers.CustomerID,ContactName FROM Orders INNER JOIN Customers on Orders.CustomerID = Customers.CustomerID GROUP BY Orders.CustomerID ORDER BY count(*) DESC limit 1;\")\n",
    "tables = cursor.fetchall()\n",
    "print(tables)\n",
    "\n",
    "cursor.close()\n",
    "conn.close()"
   ],
   "outputs": [
    {
     "name": "stdout",
     "output_type": "stream",
     "text": [
      "[('SAVEA', 'Jose Pavarotti')]\n"
     ]
    }
   ],
   "execution_count": 31
  }
 ],
 "metadata": {
  "kernelspec": {
   "display_name": "Python 3 (ipykernel)",
   "language": "python",
   "name": "python3"
  },
  "language_info": {
   "codemirror_mode": {
    "name": "ipython",
    "version": 3
   },
   "file_extension": ".py",
   "mimetype": "text/x-python",
   "name": "python",
   "nbconvert_exporter": "python",
   "pygments_lexer": "ipython3",
   "version": "3.9.7"
  }
 },
 "nbformat": 4,
 "nbformat_minor": 4
}
